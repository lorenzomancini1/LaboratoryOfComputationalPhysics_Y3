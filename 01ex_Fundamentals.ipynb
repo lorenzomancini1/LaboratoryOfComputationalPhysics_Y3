{
 "cells": [
  {
   "cell_type": "markdown",
   "metadata": {},
   "source": [
    "1\\. Write the following as a list comprehension"
   ]
  },
  {
   "cell_type": "code",
   "execution_count": 3,
   "metadata": {},
   "outputs": [
    {
     "name": "stdout",
     "output_type": "stream",
     "text": [
      "[(0, 0), (0, 1), (0, 2), (0, 3), (1, 0), (1, 1), (1, 2), (1, 3), (2, 0), (2, 1), (2, 2), (2, 3)]\n",
      "[0, 4, 16]\n"
     ]
    }
   ],
   "source": [
    "# 1\n",
    "ans = []\n",
    "for i in range(3):\n",
    "    for j in range(4):\n",
    "        ans.append((i, j))\n",
    "print (ans)\n",
    "\n",
    "# 2\n",
    "ans = map(lambda x: x*x, filter(lambda x: x%2 == 0, range(5)))\n",
    "#eleva al quadrato solo i pari nel range 5\n",
    "print (list(ans))\n"
   ]
  },
  {
   "cell_type": "code",
   "execution_count": 1,
   "metadata": {},
   "outputs": [
    {
     "name": "stdout",
     "output_type": "stream",
     "text": [
      "[(0, 0), (0, 1), (0, 2), (0, 3), (1, 0), (1, 1), (1, 2), (1, 3), (2, 0), (2, 1), (2, 2), (2, 3)]\n",
      "[0, 4, 16]\n",
      "[0, 4, 16]\n"
     ]
    }
   ],
   "source": [
    "#1\n",
    "ans=[(i,j) for i in range(3) for j in range(4)]\n",
    "print(ans)\n",
    "\n",
    "#2.a\n",
    "ans = [pow(x,2) for x in filter(lambda x: x%2 == 0, range(5))]\n",
    "print (ans)\n",
    "\n",
    "#2.b\n",
    "ans = [pow(x,2) for x in range(5) if x % 2 == 0]\n",
    "print (ans)"
   ]
  },
  {
   "cell_type": "markdown",
   "metadata": {},
   "source": [
    "2\\. Convert the following function into a pure function with no global variables or side effects"
   ]
  },
  {
   "cell_type": "code",
   "execution_count": 9,
   "metadata": {},
   "outputs": [
    {
     "name": "stdout",
     "output_type": "stream",
     "text": [
      "[1, 2, 3, 0, 1, 2, 3, 4]\n",
      "[1, 2, 3, 0, 1, 2, 3, 4]\n"
     ]
    }
   ],
   "source": [
    "x = 5\n",
    "def f(alist):\n",
    "    for i in range(x):\n",
    "         alist.append(i)\n",
    "    return alist\n",
    "\n",
    "alist = [1,2,3]\n",
    "ans = f(alist)\n",
    "print (ans)\n",
    "print (alist) # alist has been changed!"
   ]
  },
  {
   "cell_type": "code",
   "execution_count": 16,
   "metadata": {},
   "outputs": [
    {
     "name": "stdout",
     "output_type": "stream",
     "text": [
      "[1, 2, 3, 0, 1, 2, 3, 4]\n",
      "[1, 2, 3]\n"
     ]
    }
   ],
   "source": [
    "import copy\n",
    "\n",
    "x = 5\n",
    "def f(alist):\n",
    "    templist=copy.deepcopy(alist)\n",
    "    for i in range(x):\n",
    "         templist.append(i)\n",
    "    return templist\n",
    "\n",
    "alist = [1,2,3]\n",
    "ans = f(alist)\n",
    "print (ans)\n",
    "print (alist) #grazie alla deep copy alist non cambia"
   ]
  },
  {
   "cell_type": "markdown",
   "metadata": {},
   "source": [
    "3\\. Write a `decorator` hello that makes every wrapped function print “Hello!”, i.e. something like:\n",
    "\n",
    "```python\n",
    "@hello\n",
    "def square(x):\n",
    "    return x*x\n",
    "```\n",
    "\n"
   ]
  },
  {
   "cell_type": "code",
   "execution_count": 2,
   "metadata": {},
   "outputs": [
    {
     "name": "stdout",
     "output_type": "stream",
     "text": [
      "Hello!\n"
     ]
    }
   ],
   "source": [
    "def hello (func):\n",
    "    def wrapper(y): \n",
    "        print(\"Hello!\")\n",
    "        func(y)\n",
    "    return wrapper\n",
    "\n",
    "@hello\n",
    "def square(x = 0):\n",
    "    return x*x\n",
    "\n",
    "square(5)"
   ]
  },
  {
   "cell_type": "markdown",
   "metadata": {},
   "source": [
    "4\\. Write the factorial function so that it a) does and b) does not use recursion."
   ]
  },
  {
   "cell_type": "code",
   "execution_count": 37,
   "metadata": {},
   "outputs": [
    {
     "name": "stdout",
     "output_type": "stream",
     "text": [
      "1\n",
      "1\n",
      "531 µs ± 43.5 µs per loop (mean ± std. dev. of 7 runs, 1000 loops each)\n",
      "347 µs ± 10.6 µs per loop (mean ± std. dev. of 7 runs, 1000 loops each)\n"
     ]
    }
   ],
   "source": [
    "#recursive\n",
    "def myfactorial1(n):\n",
    "    if n < 2:\n",
    "        return 1\n",
    "    else:\n",
    "        return n * factorial(n-1)\n",
    "\n",
    "#not recursive\n",
    "def myfactorial2(n):\n",
    "    x = 1\n",
    "    for i in range(2, n + 1):\n",
    "        x *= i\n",
    "    return x\n",
    "\n",
    "print(myfactorial1(1000))\n",
    "print(myfactorial2(1000))\n",
    "\n",
    "%timeit myfactorial1(1000)\n",
    "%timeit myfactorial2(1000) \n",
    "#quella non ricorsiva è temporalmente vantaggiosa per n grandi"
   ]
  },
  {
   "cell_type": "markdown",
   "metadata": {},
   "source": [
    "5\\. Use HOFs (zip in particular) to compute the weight of a circle, a disk and a sphere, assuming different radii and different densities:\n",
    "\n",
    "```python\n",
    "densities = {\"Al\":[0.5,1,2],\"Fe\":[3,4,5],\"Pb\": [15,20,30]}\n",
    "radii = [1,2,3]\n",
    "```\n",
    "\n",
    "where the entries of the dictionary's values are the linear, superficial and volumetric densities of the materials respectively.\n",
    "\n",
    "In particular define a list of three lambda functions using a comprehension that computes the circumference, the area and the volume for a given radius.\n"
   ]
  },
  {
   "cell_type": "code",
   "execution_count": 3,
   "metadata": {},
   "outputs": [
    {
     "name": "stdout",
     "output_type": "stream",
     "text": [
      "Al, masses:\n",
      "{'Radius 1': {'Circle': 3.141592653589793, 'Disk': 3.141592653589793, 'Sphere': 8.377580409572781}, 'Radius 2': {'Circle': 6.283185307179586, 'Disk': 12.566370614359172, 'Sphere': 67.02064327658225}, 'Radius 3': {'Circle': 9.42477796076938, 'Disk': 28.274333882308138, 'Sphere': 226.19467105846508}}\n",
      "Fe, masses:\n",
      "{'Radius 1': {'Circle': 18.84955592153876, 'Disk': 12.566370614359172, 'Sphere': 20.94395102393195}, 'Radius 2': {'Circle': 37.69911184307752, 'Disk': 50.26548245743669, 'Sphere': 167.5516081914556}, 'Radius 3': {'Circle': 56.548667764616276, 'Disk': 113.09733552923255, 'Sphere': 565.4866776461627}}\n",
      "Pb, masses:\n",
      "{'Radius 1': {'Circle': 94.24777960769379, 'Disk': 62.83185307179586, 'Sphere': 125.66370614359171}, 'Radius 2': {'Circle': 188.49555921538757, 'Disk': 251.32741228718345, 'Sphere': 1005.3096491487337}, 'Radius 3': {'Circle': 282.7433388230814, 'Disk': 565.4866776461628, 'Sphere': 3392.920065876976}}\n"
     ]
    }
   ],
   "source": [
    "from math import pi\n",
    "import numpy as np\n",
    "\n",
    "densities = {\"Al\":[0.5,1,2],\"Fe\":[3,4,5],\"Pb\": [15,20,30]}\n",
    "radii = [1,2,3]\n",
    "\n",
    "s = [lambda r: 2*pi*r, lambda r: pi*pow(r,2), lambda r: (4/3)*pi*pow(r,3)]\n",
    "\n",
    "tsizes = np.zeros((3,3))\n",
    "for j in range(3):\n",
    "    tsizes [j] = list(map(s[j], radii)) \n",
    "\n",
    "sizes=np.transpose(tsizes)\n",
    "\n",
    "massesAl=[] \n",
    "massesFe=[]\n",
    "massesPb=[]\n",
    "\n",
    "for i in range(3):\n",
    "    for d, x in zip(densities[\"Al\"], sizes[i]):\n",
    "        massesAl.append(d*x)\n",
    "        \n",
    "for i in range(3):\n",
    "    for d, x in zip(densities[\"Fe\"], sizes[i]):\n",
    "        massesFe.append(d*x)\n",
    "        \n",
    "for i in range(3):\n",
    "    for d, x in zip(densities[\"Pb\"], sizes[i]):\n",
    "        massesPb.append(d*x)\n",
    "\n",
    "massesAl_dict = {'Radius 1': {'Circle': massesAl[0],'Disk': massesAl[1], 'Sphere': massesAl[2]}, \n",
    "                 'Radius 2': {'Circle': massesAl[3],'Disk': massesAl[4], 'Sphere': massesAl[5]},\n",
    "                 'Radius 3': {'Circle': massesAl[6],'Disk': massesAl[7], 'Sphere': massesAl[8]} \n",
    "                } \n",
    "massesFe_dict = {'Radius 1': {'Circle': massesFe[0],'Disk': massesFe[1], 'Sphere': massesFe[2]}, \n",
    "                 'Radius 2': {'Circle': massesFe[3],'Disk': massesFe[4], 'Sphere': massesFe[5]},\n",
    "                 'Radius 3': {'Circle': massesFe[6],'Disk': massesFe[7], 'Sphere': massesFe[8]} \n",
    "                }\n",
    "massesPb_dict = {'Radius 1': {'Circle': massesPb[0],'Disk': massesPb[1], 'Sphere': massesPb[2]}, \n",
    "                 'Radius 2': {'Circle': massesPb[3],'Disk': massesPb[4], 'Sphere': massesPb[5]},\n",
    "                 'Radius 3': {'Circle': massesPb[6],'Disk': massesPb[7], 'Sphere': massesPb[8]} \n",
    "                } \n",
    "print(\"Al, masses:\")\n",
    "print(massesAl_dict)\n",
    "print(\"Fe, masses:\")\n",
    "print(massesFe_dict)\n",
    "print(\"Pb, masses:\")\n",
    "print(massesPb_dict)"
   ]
  },
  {
   "cell_type": "markdown",
   "metadata": {},
   "source": [
    "6\\. Edit the class defintion to add an instance attribute of is_hungry = True to the Dog class. Then add a method called eat() which changes the value of is_hungry to False when called. Figure out the best way to feed each dog and then output “My dogs are hungry.” if all are hungry or “My dogs are not hungry.” if all are not hungry. The final output should look like this:\n",
    "\n",
    "`I have 3 dogs. \n",
    "Tom is 6. \n",
    "Fletcher is 7. \n",
    "Larry is 9. \n",
    "And they're all mammals, of course. \n",
    "My dogs are not hungry.\n",
    "`\n",
    "\n",
    "```python\n",
    "# Parent class\n",
    "class Dog:\n",
    "\n",
    "    # Class attribute\n",
    "    species = 'mammal'\n",
    "\n",
    "    # Initializer / Instance attributes\n",
    "    def __init__(self, name, age):\n",
    "        self.name = name\n",
    "        self.age = age\n",
    "\n",
    "    # instance method\n",
    "    def description(self):\n",
    "        return \"{} is {} years old\".format(self.name, self.age)\n",
    "\n",
    "    # instance method\n",
    "    def speak(self, sound):\n",
    "        return \"{} says {}\".format(self.name, sound)\n",
    "\n",
    "# Child class (inherits from Dog class)\n",
    "class RussellTerrier(Dog):\n",
    "    def run(self, speed):\n",
    "        return \"{} runs {}\".format(self.name, speed)\n",
    "\n",
    "# Child class (inherits from Dog class)\n",
    "class Bulldog(Dog):\n",
    "    def run(self, speed):\n",
    "        return \"{} runs {}\".format(self.name, speed)\n",
    "```"
   ]
  },
  {
   "cell_type": "code",
   "execution_count": 4,
   "metadata": {},
   "outputs": [
    {
     "name": "stdout",
     "output_type": "stream",
     "text": [
      "My dogs are not hungry\n"
     ]
    }
   ],
   "source": [
    "# Parent class\n",
    "class Dog:\n",
    "\n",
    "    # Class attribute\n",
    "    species = 'mammal'\n",
    "    is_hungry = True\n",
    "\n",
    "    # Initializer / Instance attributes\n",
    "    def __init__(self, name, age):\n",
    "        self.name = name\n",
    "        self.age = age\n",
    "\n",
    "    # instance methods\n",
    "    def description(self):\n",
    "        return \"{} is {} years old\".format(self.name, self.age)\n",
    "\n",
    "    def speak(self, sound):\n",
    "        return \"{} says {}\".format(self.name, sound)\n",
    "    \n",
    "    def eat (self):\n",
    "        self.is_hungry = False\n",
    "\n",
    "# Child class (inherits from Dog class)\n",
    "class RussellTerrier(Dog):\n",
    "    def run(self, speed):\n",
    "        return \"{} runs {}\".format(self.name, speed)\n",
    "\n",
    "# Child class (inherits from Dog class)\n",
    "class Bulldog(Dog):\n",
    "    def run(self, speed):\n",
    "        return \"{} runs {}\".format(self.name, speed)\n",
    "    \n",
    "Tom=Dog(\"Tom\", 6)\n",
    "Fletcher=Dog(\"Fletcher\",11)\n",
    "Larry=Dog(\"Larry\",9)\n",
    "Tom.eat()\n",
    "Fletcher.eat()\n",
    "Larry.eat()\n",
    "\n",
    "if Tom.is_hungry & Fletcher.is_hungry & Larry.is_hungry: \n",
    "    print (\"My dogs are hungry\")\n",
    "elif not(Tom.is_hungry | Fletcher.is_hungry | Larry.is_hungry):\n",
    "        print (\"My dogs are not hungry\")"
   ]
  },
  {
   "cell_type": "code",
   "execution_count": null,
   "metadata": {},
   "outputs": [],
   "source": []
  }
 ],
 "metadata": {
  "kernelspec": {
   "display_name": "Python 3",
   "language": "python",
   "name": "python3"
  },
  "language_info": {
   "codemirror_mode": {
    "name": "ipython",
    "version": 3
   },
   "file_extension": ".py",
   "mimetype": "text/x-python",
   "name": "python",
   "nbconvert_exporter": "python",
   "pygments_lexer": "ipython3",
   "version": "3.5.4"
  }
 },
 "nbformat": 4,
 "nbformat_minor": 2
}
