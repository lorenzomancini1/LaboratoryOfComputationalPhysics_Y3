{
 "cells": [
  {
   "cell_type": "markdown",
   "metadata": {},
   "source": [
    "1. The MickeyMouse problem\n",
    "\n",
    "a) Write a program that prints the numbers from 1 to 100. But for multiples of three print Mickey instead of the number and for the multiples of five print Mouse. For numbers which are multiples of both three and five print MickeyMouse\n",
    "\n",
    "b) Put the result in a tuple and substitute Mickey with Donald and Mouse with Duck"
   ]
  },
  {
   "cell_type": "code",
   "execution_count": null,
   "metadata": {},
   "outputs": [],
   "source": [
    "def MickeyMouse():\n",
    "    for i in range(1,100):\n",
    "        if i % 3 == 0 and i % 5 == 0: \n",
    "            print(\"MickeyMouse\")\n",
    "        elif i % 3 == 0:\n",
    "            print(\"Mickey\")\n",
    "        elif i % 5 == 0:\n",
    "            print(\"Mouse\")\n",
    "        else:\n",
    "            print(i)\n",
    "            \n",
    "MickeyMouse() "
   ]
  },
  {
   "cell_type": "code",
   "execution_count": 1,
   "metadata": {},
   "outputs": [
    {
     "name": "stdout",
     "output_type": "stream",
     "text": [
      "[1, 2, 'Mickey', 4, 'Mouse', 'Mickey', 7, 8, 'Mickey', 'Mouse', 11, 'Mickey', 13, 14, 'MickeyMouse', 16, 17, 'Mickey', 19, 'Mouse', 'Mickey', 22, 23, 'Mickey', 'Mouse', 26, 'Mickey', 28, 29, 'MickeyMouse', 31, 32, 'Mickey', 34, 'Mouse', 'Mickey', 37, 38, 'Mickey', 'Mouse', 41, 'Mickey', 43, 44, 'MickeyMouse', 46, 47, 'Mickey', 49, 'Mouse', 'Mickey', 52, 53, 'Mickey', 'Mouse', 56, 'Mickey', 58, 59, 'MickeyMouse', 61, 62, 'Mickey', 64, 'Mouse', 'Mickey', 67, 68, 'Mickey', 'Mouse', 71, 'Mickey', 73, 74, 'MickeyMouse', 76, 77, 'Mickey', 79, 'Mouse', 'Mickey', 82, 83, 'Mickey', 'Mouse', 86, 'Mickey', 88, 89, 'MickeyMouse', 91, 92, 'Mickey', 94, 'Mouse', 'Mickey', 97, 98, 'Mickey', 'Mouse']\n",
      "(1, 2, 'Donald', 4, 'Duck', 'Donald', 7, 8, 'Donald', 'Duck', 11, 'Donald', 13, 14, 'DonaldDuck', 16, 17, 'Donald', 19, 'Duck', 'Donald', 22, 23, 'Donald', 'Duck', 26, 'Donald', 28, 29, 'DonaldDuck', 31, 32, 'Donald', 34, 'Duck', 'Donald', 37, 38, 'Donald', 'Duck', 41, 'Donald', 43, 44, 'DonaldDuck', 46, 47, 'Donald', 49, 'Duck', 'Donald', 52, 53, 'Donald', 'Duck', 56, 'Donald', 58, 59, 'DonaldDuck', 61, 62, 'Donald', 64, 'Duck', 'Donald', 67, 68, 'Donald', 'Duck', 71, 'Donald', 73, 74, 'DonaldDuck', 76, 77, 'Donald', 79, 'Duck', 'Donald', 82, 83, 'Donald', 'Duck', 86, 'Donald', 88, 89, 'DonaldDuck', 91, 92, 'Donald', 94, 'Duck', 'Donald', 97, 98, 'Donald', 'Duck')\n"
     ]
    }
   ],
   "source": [
    "def MickeyMouse2():\n",
    "    a=[None]*100\n",
    "    for i in range(1,101):\n",
    "        if i % 3 == 0 and i % 5 == 0: \n",
    "            a[i-1]=\"MickeyMouse\"\n",
    "        elif i % 3 == 0:\n",
    "            a[i-1]=\"Mickey\"\n",
    "        elif i % 5 == 0:\n",
    "            a[i-1]=\"Mouse\"\n",
    "        else:\n",
    "            a[i-1]=i\n",
    "    return a\n",
    "\n",
    "print (MickeyMouse2()) \n",
    "a_1= [\"Donald\" if x==\"Mickey\" else x for x in MickeyMouse2()]\n",
    "a_2=[\"Duck\" if x==\"Mouse\" else x for x in a_1]\n",
    "a_3=[\"DonaldDuck\" if x==\"MickeyMouse\" else x for x in a_2]\n",
    "b=tuple(a_3)\n",
    "print(b)"
   ]
  },
  {
   "cell_type": "markdown",
   "metadata": {},
   "source": [
    "2\\. The swap function\n",
    "\n",
    "Write a function that swap the values of two input variables x and y (whatever the type). Try to do that also without a temporary variable"
   ]
  },
  {
   "cell_type": "code",
   "execution_count": 2,
   "metadata": {},
   "outputs": [
    {
     "name": "stdout",
     "output_type": "stream",
     "text": [
      "after the swap, (a,b) is: (15, 7)\n"
     ]
    }
   ],
   "source": [
    "a = 7\n",
    "b = 15\n",
    "\n",
    "def swap(x,y):\n",
    "    temp = x\n",
    "    x = y\n",
    "    y = temp\n",
    "    return (x,y)\n",
    "    \n",
    "print('after the swap, (a,b) tuple is: {}'.format(swap(a,b)))   "
   ]
  },
  {
   "cell_type": "code",
   "execution_count": 76,
   "metadata": {},
   "outputs": [
    {
     "name": "stdout",
     "output_type": "stream",
     "text": [
      "after the swap, (a,b) is: (15, 7)\n"
     ]
    }
   ],
   "source": [
    "a = 7\n",
    "b = 15\n",
    "\n",
    "def swap2(x,y):\n",
    "    x = 7\n",
    "    y = 15\n",
    "    x, y = y, x\n",
    "    return (x,y)\n",
    "\n",
    "print('after the swap, (a,b) tuple is: {}'.format(swap2(a,b)))   "
   ]
  },
  {
   "cell_type": "markdown",
   "metadata": {},
   "source": [
    "3\\. Computing the distance\n",
    "\n",
    "Write a function that calculates and returns the euclidean distance between two points *u* and *v*, where *u* and *v* are both 2-tuples *(x,y)*. For example, if *u=(3,0)* and *v=(0,4)*, the function should return 5"
   ]
  },
  {
   "cell_type": "code",
   "execution_count": 4,
   "metadata": {},
   "outputs": [
    {
     "name": "stdout",
     "output_type": "stream",
     "text": [
      "5.0\n"
     ]
    }
   ],
   "source": [
    "u=(3,0)\n",
    "v=(0,4)\n",
    "h=[7,8]\n",
    "f=(1,1,1)\n",
    "\n",
    "def distance (a, b): \n",
    "    if not (isinstance(a, tuple) and isinstance(b, tuple)):\n",
    "        raise TypeError(\"Error: arguments must be tuples, try again\")\n",
    "    if (len(a) != 2 or len(b) != 2) : \n",
    "        raise ValueError(\"Error: arguments must be tuples containing two items,try again\")                              \n",
    "    else: \n",
    "        d=pow((pow(b[0]-a[0],2)+pow(b[1]-a[1],2)),1/2)\n",
    "        return d\n",
    "\n",
    "print (distance (u,v))  "
   ]
  },
  {
   "cell_type": "code",
   "execution_count": 35,
   "metadata": {},
   "outputs": [
    {
     "name": "stdout",
     "output_type": "stream",
     "text": [
      "5.0\n"
     ]
    }
   ],
   "source": [
    "from scipy.spatial import distance\n",
    "u = (3,0)\n",
    "v = (0,4)\n",
    "d = distance.euclidean(u, v)\n",
    "print (d)"
   ]
  },
  {
   "cell_type": "markdown",
   "metadata": {},
   "source": [
    "4\\. Counting letters\n",
    "\n",
    "Write a program to calculate the number of times each character occurs in a given string *s*. Ignore differneces in capitalization"
   ]
  },
  {
   "cell_type": "code",
   "execution_count": 5,
   "metadata": {},
   "outputs": [
    {
     "data": {
      "text/plain": [
       "2"
      ]
     },
     "execution_count": 5,
     "metadata": {},
     "output_type": "execute_result"
    }
   ],
   "source": [
    "s=\"Write a program that prints the numbers from 1 to 100. \\\n",
    "But for multiples of three print Mickey instead of the number and for the multiples of five print Mouse. \\\n",
    "For numbers which are multiples of both three and five print MickeyMouse\"\n",
    "w=\"w\"\n",
    "v=1\n",
    "\n",
    "def mycount (t, c):\n",
    "    if isinstance(t, str) and isinstance(c, str):\n",
    "        d=(t.casefold()).count (c.casefold())\n",
    "        return d;\n",
    "    else: raise TypeError (\"Error: arguments have to be (str, str), try again\")\n",
    "\n",
    "mycount (s,w)"
   ]
  },
  {
   "cell_type": "code",
   "execution_count": 6,
   "metadata": {},
   "outputs": [
    {
     "data": {
      "text/plain": [
       "2"
      ]
     },
     "execution_count": 6,
     "metadata": {},
     "output_type": "execute_result"
    }
   ],
   "source": [
    "s=\"Write a program that prints the numbers from 1 to 100. \\\n",
    "But for multiples of three print Mickey instead of the number and for the multiples of five print Mouse. \\\n",
    "For numbers which are multiples of both three and five print MickeyMouse\"\n",
    "w=\"w\"\n",
    "v=1\n",
    "\n",
    "def mycount (t, c):\n",
    "    try:\n",
    "        d=(t.casefold()).count (c.casefold())\n",
    "        return d;\n",
    "    except: \n",
    "        print (\"Error: arguments have to be (str, str), try again\")\n",
    "\n",
    "mycount (s,w)"
   ]
  },
  {
   "cell_type": "markdown",
   "metadata": {},
   "source": [
    "5\\. Isolating the unique\n",
    "\n",
    "Write a function that determines and count the unique numbers in the list *l*"
   ]
  },
  {
   "cell_type": "code",
   "execution_count": 33,
   "metadata": {},
   "outputs": [
    {
     "name": "stdout",
     "output_type": "stream",
     "text": [
      "The unique numbers are:\n",
      "[ 1  3  5  8  9 10 16 18 19 20 24 30 31 33 34 36 37 39 41 42 45 47 50 51\n",
      " 53 54 55 56 57 58 63 64 66 70 72 74 75 79 81 82 84 85 86 87 88 89 90 91\n",
      " 92 94 95 96 98 99]\n",
      "And for each unique number the count is: 'number: count' \n",
      "{1: 1, 3: 2, 5: 1, 8: 1, 9: 1, 10: 1, 16: 1, 18: 1, 19: 1, 20: 3, 24: 1, 30: 1, 31: 2, 33: 1, 34: 2, 36: 3, 37: 1, 39: 1, 41: 1, 42: 2, 45: 3, 47: 1, 50: 2, 51: 3, 53: 1, 54: 1, 55: 1, 56: 2, 57: 1, 58: 1, 63: 2, 64: 1, 66: 2, 70: 3, 72: 1, 74: 1, 75: 1, 79: 1, 81: 1, 82: 1, 84: 4, 85: 3, 86: 1, 87: 1, 88: 1, 89: 2, 90: 1, 91: 3, 92: 1, 94: 1, 95: 1, 96: 1, 98: 1, 99: 1}\n"
     ]
    }
   ],
   "source": [
    "l = [36, 45, 58, 3, 74, 96, 64, 45, 31, 10, 24, 19, 33, 86, 99, 18, 63, 70, 85,\n",
    " 85, 63, 47, 56, 42, 70, 84, 88, 55, 20, 54, 8, 56, 51, 79, 81, 57, 37, 91,\n",
    " 1, 84, 84, 36, 66, 9, 89, 50, 42, 91, 50, 95, 90, 98, 39, 16, 82, 31, 92, 41,\n",
    " 45, 30, 66, 70, 34, 85, 94, 5, 3, 36, 72, 91, 84, 34, 87, 75, 53, 51, 20, 89, 51, 20]\n",
    "\n",
    "import numpy as np \n",
    "   \n",
    "def myunique(a):\n",
    "    x=np.unique(np.array(a))\n",
    "    d = {}\n",
    "    for i in x: \n",
    "        d[i] = a.count(i)\n",
    "    return (x,d)\n",
    "    \n",
    "print (\"The unique numbers are:\"), \n",
    "print (myunique(l)[0]),\n",
    "print (\"And for each unique number the count is: 'number: count' \")\n",
    "print (myunique(l)[1])"
   ]
  },
  {
   "cell_type": "markdown",
   "metadata": {},
   "source": [
    "6\\. Combination of functions\n",
    "\n",
    "Write two functions - one that returns the square of a number, and one that returns the cube. Now write a third function that returns the number raised to the 6th power using the two previous functions."
   ]
  },
  {
   "cell_type": "code",
   "execution_count": 40,
   "metadata": {},
   "outputs": [
    {
     "data": {
      "text/plain": [
       "4826809"
      ]
     },
     "execution_count": 40,
     "metadata": {},
     "output_type": "execute_result"
    }
   ],
   "source": [
    "def mysquare(a):\n",
    "    return pow(a,2)\n",
    "def mycube (a):\n",
    "    return pow(a,3)\n",
    "def combinedfunc (a):\n",
    "    return mycube(mysquare(a))\n",
    "\n",
    "x=13\n",
    "combinedfunc(x)"
   ]
  },
  {
   "cell_type": "markdown",
   "metadata": {},
   "source": [
    "7\\. Cubes\n",
    "\n",
    "Create a list of the cubes of x for x in *[0, 10]* using:\n",
    "\n",
    "a) a for loop\n",
    "\n",
    "b) a list comprehension"
   ]
  },
  {
   "cell_type": "code",
   "execution_count": 42,
   "metadata": {},
   "outputs": [
    {
     "name": "stdout",
     "output_type": "stream",
     "text": [
      "[0, 1, 8, 27, 64, 125, 216, 343, 512, 729, 1000]\n"
     ]
    }
   ],
   "source": [
    "#assuming \"in [0,10]\" means in [0,1,2,3,4,5,6,7,8,9,10]\n",
    "l=[]\n",
    "for i in range(11):\n",
    "    l.append(pow(i,3))\n",
    "    \n",
    "print(l)"
   ]
  },
  {
   "cell_type": "code",
   "execution_count": 8,
   "metadata": {},
   "outputs": [
    {
     "name": "stdout",
     "output_type": "stream",
     "text": [
      "[0, 1, 8, 27, 64, 125, 216, 343, 512, 729, 1000]\n"
     ]
    }
   ],
   "source": [
    "c= [pow(x,3) for x in range(0, 11)]\n",
    "print(c)"
   ]
  },
  {
   "cell_type": "markdown",
   "metadata": {},
   "source": [
    "8\\. Nested list comprehension\n",
    "\n",
    "A Pythagorean triple is an integer solution to the Pythagorean theorem $a^2+b^2=c^2$. The first Pythagorean triple is (3,4,5). Find and put in a tuple all unique Pythagorean triples for the positive integers a, b and c less than 100."
   ]
  },
  {
   "cell_type": "code",
   "execution_count": 9,
   "metadata": {},
   "outputs": [
    {
     "name": "stdout",
     "output_type": "stream",
     "text": [
      "((3, 4, 5), (6, 8, 10), (5, 12, 13), (9, 12, 15), (8, 15, 17), (12, 16, 20), (15, 20, 25), (7, 24, 25), (10, 24, 26), (20, 21, 29), (18, 24, 30), (16, 30, 34), (21, 28, 35), (12, 35, 37), (15, 36, 39), (24, 32, 40), (9, 40, 41), (27, 36, 45), (30, 40, 50), (14, 48, 50), (24, 45, 51), (20, 48, 52), (28, 45, 53), (33, 44, 55), (40, 42, 58), (36, 48, 60), (11, 60, 61), (39, 52, 65), (33, 56, 65), (25, 60, 65), (16, 63, 65), (32, 60, 68), (42, 56, 70), (48, 55, 73), (24, 70, 74), (45, 60, 75), (21, 72, 75), (30, 72, 78), (48, 64, 80), (18, 80, 82), (51, 68, 85), (40, 75, 85), (36, 77, 85), (13, 84, 85), (60, 63, 87), (39, 80, 89), (54, 72, 90), (35, 84, 91), (57, 76, 95), (65, 72, 97), (60, 80, 100), (28, 96, 100))\n"
     ]
    }
   ],
   "source": [
    "l=[(a,b,c) for c in range(1,101) for b in range(c) for a in range(b) if c*c == a*a + b*b]\n",
    "t=tuple(l)\n",
    "print(t)"
   ]
  },
  {
   "cell_type": "markdown",
   "metadata": {},
   "source": [
    "9\\. Normalization\n",
    "\n",
    "Write a function that takes a tuple of numbers and returns it with the entries normalized to one"
   ]
  },
  {
   "cell_type": "code",
   "execution_count": 10,
   "metadata": {},
   "outputs": [
    {
     "name": "stdout",
     "output_type": "stream",
     "text": [
      "(0.047619047619047616, 0.09523809523809523, 0.23809523809523808, 0.14285714285714285, 0.23809523809523808, 0.23809523809523808)\n"
     ]
    }
   ],
   "source": [
    "#normalization against the sum -to ensure that the sum is always 1.0-\n",
    "def normalize(a):\n",
    "    b = [float(i)/sum(a) for i in a]\n",
    "    c = tuple(b)\n",
    "    return c;\n",
    "\n",
    "u = (2,4,10,6,10,10)\n",
    "print(normalize(u))"
   ]
  },
  {
   "cell_type": "code",
   "execution_count": 11,
   "metadata": {},
   "outputs": [
    {
     "name": "stdout",
     "output_type": "stream",
     "text": [
      "(0.2, 0.4, 1.0, 0.6, 0.7, 1.0)\n"
     ]
    }
   ],
   "source": [
    "#normalization against the maximum\n",
    "def normalize2(a):\n",
    "    b = [float(i)/max(a) for i in a]\n",
    "    c = tuple(b)\n",
    "    return c;\n",
    "\n",
    "u = (2,4,10,6,7,10)\n",
    "print(normalize2(u))"
   ]
  },
  {
   "cell_type": "code",
   "execution_count": null,
   "metadata": {},
   "outputs": [],
   "source": []
  }
 ],
 "metadata": {
  "kernelspec": {
   "display_name": "Python 3",
   "language": "python",
   "name": "python3"
  },
  "language_info": {
   "codemirror_mode": {
    "name": "ipython",
    "version": 3
   },
   "file_extension": ".py",
   "mimetype": "text/x-python",
   "name": "python",
   "nbconvert_exporter": "python",
   "pygments_lexer": "ipython3",
   "version": "3.8.3"
  }
 },
 "nbformat": 4,
 "nbformat_minor": 4
}
